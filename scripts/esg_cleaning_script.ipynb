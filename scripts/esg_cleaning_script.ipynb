{
 "cells": [
  {
   "cell_type": "code",
   "execution_count": 1,
   "metadata": {},
   "outputs": [],
   "source": [
    "import pandas as pd\n",
    "from sklearn.preprocessing import MinMaxScaler"
   ]
  },
  {
   "cell_type": "code",
   "execution_count": 2,
   "metadata": {},
   "outputs": [],
   "source": [
    "# Step 1: Load the raw ESG dataset\n",
    "df = pd.read_csv(\"ESGCountry.csv\")"
   ]
  },
  {
   "cell_type": "code",
   "execution_count": 3,
   "metadata": {},
   "outputs": [
    {
     "name": "stdout",
     "output_type": "stream",
     "text": [
      "                                           Column  Null Values  Missing Values\n",
      "                                     Country Code            0               0\n",
      "                                       Short Name            0               0\n",
      "                                       Table Name            0               0\n",
      "                                        Long Name            0               0\n",
      "                                     2-alpha code            1               1\n",
      "                                    Currency Unit           46              46\n",
      "                                    Special Notes          148             148\n",
      "                                           Region           46              46\n",
      "                                     Income Group           46              46\n",
      "                                        WB-2 code            1               1\n",
      "                      National accounts base year           47              47\n",
      "                 National accounts reference year          173             173\n",
      "                              SNA price valuation           47              47\n",
      "                                 Lending category           96              96\n",
      "                                     Other groups          180             180\n",
      "                      System of National Accounts           49              49\n",
      "                    Alternative conversion factor          192             192\n",
      "                                  PPP survey year          239             239\n",
      "                Balance of Payments Manual in use           51              51\n",
      "                   External debt Reporting status          121             121\n",
      "                                  System of trade           53              53\n",
      "                    Government Accounting concept           83              83\n",
      "                  IMF data dissemination standard           58              58\n",
      "                         Latest population census           48              48\n",
      "                          Latest household survey           91              91\n",
      "Source of most recent Income and expenditure data           73              73\n",
      "                      Vital registration complete          141             141\n",
      "                       Latest agricultural census          118             118\n",
      "                           Latest industrial data           96              96\n",
      "                                Latest trade data            7               7\n",
      "                                      Unnamed: 30          239             239\n"
     ]
    }
   ],
   "source": [
    "# Step 2: Summary of null and missing values\n",
    "null_summary_df = pd.DataFrame({\n",
    "    'Null Values': df.isnull().sum(),\n",
    "    'Missing Values': df.isna().sum()\n",
    "}).reset_index()\n",
    "null_summary_df.columns = ['Column', 'Null Values', 'Missing Values']\n",
    "print(null_summary_df.to_string(index=False))"
   ]
  },
  {
   "cell_type": "code",
   "execution_count": 12,
   "metadata": {},
   "outputs": [
    {
     "name": "stdout",
     "output_type": "stream",
     "text": [
      "\n",
      " Summary of null and missing values:\n",
      "                                           Column  Null Values  Missing Values\n",
      "                                     Country Code            0               0\n",
      "                                       Short Name            0               0\n",
      "                                       Table Name            0               0\n",
      "                                        Long Name            0               0\n",
      "                                     2-alpha code            1               1\n",
      "                                    Currency Unit           46              46\n",
      "                                    Special Notes          148             148\n",
      "                                           Region           46              46\n",
      "                                     Income Group           46              46\n",
      "                                        WB-2 code            1               1\n",
      "                      National accounts base year           47              47\n",
      "                 National accounts reference year          173             173\n",
      "                              SNA price valuation           47              47\n",
      "                                 Lending category           96              96\n",
      "                                     Other groups          180             180\n",
      "                      System of National Accounts           49              49\n",
      "                    Alternative conversion factor          192             192\n",
      "                                  PPP survey year          239             239\n",
      "                Balance of Payments Manual in use           51              51\n",
      "                   External debt Reporting status          121             121\n",
      "                                  System of trade           53              53\n",
      "                    Government Accounting concept           83              83\n",
      "                  IMF data dissemination standard           58              58\n",
      "                         Latest population census           48              48\n",
      "                          Latest household survey           91              91\n",
      "Source of most recent Income and expenditure data           73              73\n",
      "                      Vital registration complete          141             141\n",
      "                       Latest agricultural census          118             118\n",
      "                           Latest industrial data           96              96\n",
      "                                Latest trade data            7               7\n"
     ]
    }
   ],
   "source": [
    "# Exclude 'Unnamed: 30' \n",
    "null_summary_df = null_summary_df[null_summary_df['Column'] != 'Unnamed: 30']\n",
    "\n",
    "print(\"\\n Summary of null and missing values:\")\n",
    "print(null_summary_df.to_string(index=False))"
   ]
  },
  {
   "cell_type": "code",
   "execution_count": 5,
   "metadata": {},
   "outputs": [],
   "source": [
    "# Step 3: Drop columns with more than 50% missing values\n",
    "threshold = len(df) * 0.5\n",
    "df = df.dropna(thresh=threshold, axis=1)"
   ]
  },
  {
   "cell_type": "code",
   "execution_count": 6,
   "metadata": {},
   "outputs": [],
   "source": [
    "# Step 4: Drop unnecessary columns unrelated to ESG\n",
    "irrelevant_cols = [\n",
    "    'Special Notes', 'Alternative conversion factor', 'PPP survey year',\n",
    "    'External debt Reporting status', 'Other groups',\n",
    "    'National accounts reference year', 'Vital registration complete'\n",
    "]\n",
    "df = df.drop(columns=[col for col in irrelevant_cols if col in df.columns])"
   ]
  },
  {
   "cell_type": "code",
   "execution_count": 7,
   "metadata": {},
   "outputs": [],
   "source": [
    "# Step 5: Drop rows with any remaining missing values\n",
    "df = df.dropna()"
   ]
  },
  {
   "cell_type": "code",
   "execution_count": 8,
   "metadata": {},
   "outputs": [],
   "source": [
    "# Step 6: Rename 'Table Name' to 'Country'\n",
    "df.rename(columns={'Table Name': 'Country'}, inplace=True)"
   ]
  },
  {
   "cell_type": "code",
   "execution_count": 19,
   "metadata": {},
   "outputs": [],
   "source": [
    "# Step 7: Convert key columns to numeric (explicitly for accurate stats)\n",
    "numeric_targets = [\n",
    "    'National accounts base year',\n",
    "    'Latest population census',\n",
    "    'Latest agricultural census',\n",
    "    'Latest industrial data',\n",
    "    'Latest trade data'\n",
    "]\n",
    "for col in numeric_targets:\n",
    "    if col in df.columns:\n",
    "        df[col] = pd.to_numeric(df[col], errors='coerce')\n"
   ]
  },
  {
   "cell_type": "code",
   "execution_count": 20,
   "metadata": {},
   "outputs": [
    {
     "name": "stdout",
     "output_type": "stream",
     "text": [
      "\n",
      "Numerical Columns Descriptive Statistics:\n",
      "                             count         mean       std     min  \\\n",
      "National accounts base year   37.0  2010.756757  4.929533  2000.0   \n",
      "Latest population census      58.0  2010.913793  9.995235  1943.0   \n",
      "Latest agricultural census    39.0  2011.282051  2.973114  2006.0   \n",
      "Latest industrial data        59.0     0.796610  0.246979     0.0   \n",
      "Latest trade data             59.0     0.977401  0.136519     0.0   \n",
      "\n",
      "                                     25%          50%         75%     max  \n",
      "National accounts base year  2007.000000  2011.000000  2015.00000  2018.0  \n",
      "Latest population census     2010.000000  2011.000000  2015.00000  2020.0  \n",
      "Latest agricultural census   2009.000000  2011.000000  2014.00000  2016.0  \n",
      "Latest industrial data          0.646341     0.926829     0.97561     1.0  \n",
      "Latest trade data               1.000000     1.000000     1.00000     1.0  \n"
     ]
    }
   ],
   "source": [
    "# Step 8: Display descriptive statistics BEFORE normalization\n",
    "desc_stats = df[numeric_targets].describe().T\n",
    "print(\"\\nNumerical Columns Descriptive Statistics:\")\n",
    "print(desc_stats)"
   ]
  },
  {
   "cell_type": "code",
   "execution_count": 21,
   "metadata": {},
   "outputs": [],
   "source": [
    "# Step 8: Normalize specific numeric columns using MinMaxScaler\n",
    "scaler = MinMaxScaler()\n",
    "columns_to_normalize = ['Latest industrial data', 'Latest trade data']\n",
    "df[columns_to_normalize] = scaler.fit_transform(df[columns_to_normalize])"
   ]
  },
  {
   "cell_type": "code",
   "execution_count": 22,
   "metadata": {},
   "outputs": [
    {
     "name": "stdout",
     "output_type": "stream",
     "text": [
      "\n",
      " Cleaned and normalized dataset saved as 'cleaned_normalized_ESGCountry.csv'\n",
      "Final dataset shape: (59, 23)\n"
     ]
    }
   ],
   "source": [
    "# Step 9: Save the cleaned and normalized dataset\n",
    "df.to_csv(\"cleaned_normalized_ESGCountry.csv\", index=False)\n",
    "\n",
    "# Final confirmation\n",
    "print(\"\\n Cleaned and normalized dataset saved as 'cleaned_normalized_ESGCountry.csv'\")\n",
    "print(\"Final dataset shape:\", df.shape)"
   ]
  }
 ],
 "metadata": {
  "kernelspec": {
   "display_name": "Python 3.12.7 ('base')",
   "language": "python",
   "name": "python3"
  },
  "language_info": {
   "codemirror_mode": {
    "name": "ipython",
    "version": 3
   },
   "file_extension": ".py",
   "mimetype": "text/x-python",
   "name": "python",
   "nbconvert_exporter": "python",
   "pygments_lexer": "ipython3",
   "version": "3.12.7"
  },
  "orig_nbformat": 4,
  "vscode": {
   "interpreter": {
    "hash": "20a9e06a1eee47c4abbed4ec8225ad91d78d9800d202b71b6b0a6e47016c6abd"
   }
  }
 },
 "nbformat": 4,
 "nbformat_minor": 2
}
